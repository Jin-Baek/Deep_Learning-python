{
  "nbformat": 4,
  "nbformat_minor": 0,
  "metadata": {
    "colab": {
      "name": "Chap2",
      "provenance": [],
      "collapsed_sections": [],
      "authorship_tag": "ABX9TyPkexHWOXkN/Vn0uoCV9kAv",
      "include_colab_link": true
    },
    "kernelspec": {
      "name": "python3",
      "display_name": "Python 3"
    }
  },
  "cells": [
    {
      "cell_type": "markdown",
      "metadata": {
        "id": "view-in-github",
        "colab_type": "text"
      },
      "source": [
        "<a href=\"https://colab.research.google.com/github/Jin-Baek/Deep_Learning-python/blob/main/Chap2.ipynb\" target=\"_parent\"><img src=\"https://colab.research.google.com/assets/colab-badge.svg\" alt=\"Open In Colab\"/></a>"
      ]
    },
    {
      "cell_type": "markdown",
      "metadata": {
        "id": "L_zSj_3CtnCW"
      },
      "source": [
        "## **2.1 퍼셉트론이란?**\r\n",
        "\r\n",
        "다수의 신호를 입력으로 받아 0 또는 1 하나의 신호를 출력\r\n",
        "\r\n",
        "$$ y = \\begin{cases}\r\n",
        "0 (w₁x₁+ w₂x₂\\leq \\varTheta)\\\\ \r\n",
        "1 (w₁x₁+ w₂x₂> \\Theta)\r\n",
        "\\end{cases} $$\r\n",
        "\r\n",
        "## **2.2 단순 논리 회로, 2.3 퍼셉트론 구현**\r\n",
        "\r\n",
        "### AND 게이트 \r\n",
        "<html>\r\n",
        "<head>\r\n",
        "</head>\r\n",
        "<body>\r\n",
        "    <table border=\"1\" align='left'>\r\n",
        "\t<th>x₁</th>\r\n",
        "\t<th>x₂</th>\r\n",
        "  <th>y</th>\r\n",
        "\t<tr>\r\n",
        "\t    <td>0</td>\r\n",
        "\t    <td>0</td>\r\n",
        "      <td>0</td>\r\n",
        "\t</tr>\r\n",
        "\t<tr>\r\n",
        "\t    <td>1</td>\r\n",
        "\t    <td>0</td>\r\n",
        "      <td>0</td>\r\n",
        "\t</tr>\r\n",
        "  <tr>\r\n",
        "      <td>0</td>\r\n",
        "      <td>1</td>\r\n",
        "      <td>0</td>\r\n",
        "  </tr>\r\n",
        "    <tr>\r\n",
        "      <td>1</td>\r\n",
        "      <td>1</td>\r\n",
        "      <td>1</td>\r\n",
        "  </tr>\r\n",
        "    </table>\r\n",
        "</body>\r\n",
        "</html>\r\n"
      ]
    },
    {
      "cell_type": "code",
      "metadata": {
        "id": "IqhO5VaOsguL"
      },
      "source": [
        "def AND(x1,x2):\r\n",
        "  w1,w2,theta = 0.5,0.5,0.7\r\n",
        "  tmp = x1*w1+x2*w2\r\n",
        "  if tmp<=theta:\r\n",
        "    return 0\r\n",
        "  elif tmp>theta:\r\n",
        "    return 1"
      ],
      "execution_count": 1,
      "outputs": []
    },
    {
      "cell_type": "code",
      "metadata": {
        "colab": {
          "base_uri": "https://localhost:8080/"
        },
        "id": "aCAQLBQLwZb7",
        "outputId": "1c6c5fcd-e647-4c02-afac-f5ecf1959626"
      },
      "source": [
        "print(AND(0,0))\r\n",
        "print(AND(0,1))\r\n",
        "print(AND(1,0))\r\n",
        "print(AND(1,1))"
      ],
      "execution_count": 4,
      "outputs": [
        {
          "output_type": "stream",
          "text": [
            "0\n",
            "0\n",
            "0\n",
            "1\n"
          ],
          "name": "stdout"
        }
      ]
    },
    {
      "cell_type": "markdown",
      "metadata": {
        "id": "Yeqo3Hm_xFch"
      },
      "source": [
        "### OR 게이트 \r\n",
        "<html>\r\n",
        "<head>\r\n",
        "</head>\r\n",
        "<body>\r\n",
        "    <table border=\"1\" align='left'>\r\n",
        "\t<th>x₁</th>\r\n",
        "\t<th>x₂</th>\r\n",
        "  <th>y</th>\r\n",
        "\t<tr>\r\n",
        "\t    <td>0</td>\r\n",
        "\t    <td>0</td>\r\n",
        "      <td>0</td>\r\n",
        "\t</tr>\r\n",
        "\t<tr>\r\n",
        "\t    <td>1</td>\r\n",
        "\t    <td>0</td>\r\n",
        "      <td>1</td>\r\n",
        "\t</tr>\r\n",
        "  <tr>\r\n",
        "      <td>0</td>\r\n",
        "      <td>1</td>\r\n",
        "      <td>1</td>\r\n",
        "  </tr>\r\n",
        "    <tr>\r\n",
        "      <td>1</td>\r\n",
        "      <td>1</td>\r\n",
        "      <td>1</td>\r\n",
        "  </tr>\r\n",
        "    </table>\r\n",
        "</body>\r\n",
        "</html>"
      ]
    },
    {
      "cell_type": "code",
      "metadata": {
        "id": "Eui5Drm3xMAY"
      },
      "source": [
        "def OR(x1,x2):\r\n",
        "  w1,w2,theta = 0.5,0.5,0.1\r\n",
        "  tmp = x1*w1+x2*w2\r\n",
        "  if tmp<=theta:\r\n",
        "    return 0\r\n",
        "  elif tmp>theta:\r\n",
        "    return 1"
      ],
      "execution_count": 11,
      "outputs": []
    },
    {
      "cell_type": "code",
      "metadata": {
        "colab": {
          "base_uri": "https://localhost:8080/"
        },
        "id": "yNI_jRExyQ5u",
        "outputId": "1697b0ec-3a7f-4159-d306-366180d3e94f"
      },
      "source": [
        "print(OR(0,0))\r\n",
        "print(OR(0,1))\r\n",
        "print(OR(1,0))\r\n",
        "print(OR(1,1))"
      ],
      "execution_count": 12,
      "outputs": [
        {
          "output_type": "stream",
          "text": [
            "0\n",
            "1\n",
            "1\n",
            "1\n"
          ],
          "name": "stdout"
        }
      ]
    },
    {
      "cell_type": "markdown",
      "metadata": {
        "id": "1XYwpkPj3X5Z"
      },
      "source": [
        "### NAND 게이트 \r\n",
        "<html>\r\n",
        "<head>\r\n",
        "</head>\r\n",
        "<body>\r\n",
        "    <table border=\"1\" align='left'>\r\n",
        "\t<th>x₁</th>\r\n",
        "\t<th>x₂</th>\r\n",
        "  <th>y</th>\r\n",
        "\t<tr>\r\n",
        "\t    <td>0</td>\r\n",
        "\t    <td>0</td>\r\n",
        "      <td>1</td>\r\n",
        "\t</tr>\r\n",
        "\t<tr>\r\n",
        "\t    <td>1</td>\r\n",
        "\t    <td>0</td>\r\n",
        "      <td>1</td>\r\n",
        "\t</tr>\r\n",
        "  <tr>\r\n",
        "      <td>0</td>\r\n",
        "      <td>1</td>\r\n",
        "      <td>1</td>\r\n",
        "  </tr>\r\n",
        "    <tr>\r\n",
        "      <td>1</td>\r\n",
        "      <td>1</td>\r\n",
        "      <td>0</td>\r\n",
        "  </tr>\r\n",
        "    </table>\r\n",
        "</body>\r\n",
        "</html>"
      ]
    },
    {
      "cell_type": "code",
      "metadata": {
        "id": "qUisqzO63jTS"
      },
      "source": [
        "def NAND(x1,x2):\r\n",
        "  w1,w2,theta = -0.5,-0.5,-0.7\r\n",
        "  tmp = x1*w1+x2*w2\r\n",
        "  if tmp<=theta:\r\n",
        "    return 0\r\n",
        "  elif tmp>theta:\r\n",
        "    return 1"
      ],
      "execution_count": 7,
      "outputs": []
    },
    {
      "cell_type": "code",
      "metadata": {
        "colab": {
          "base_uri": "https://localhost:8080/"
        },
        "id": "1U-MZlko3lPE",
        "outputId": "3b961578-744f-4a9e-ef85-d955ca710579"
      },
      "source": [
        "print(NAND(0,0))\r\n",
        "print(NAND(0,1))\r\n",
        "print(NAND(1,0))\r\n",
        "print(NAND(1,1))"
      ],
      "execution_count": 8,
      "outputs": [
        {
          "output_type": "stream",
          "text": [
            "1\n",
            "1\n",
            "1\n",
            "0\n"
          ],
          "name": "stdout"
        }
      ]
    },
    {
      "cell_type": "markdown",
      "metadata": {
        "id": "SITwXkSD3pgc"
      },
      "source": [
        "즉, 퍼셉트론의 매개변수 ( 가중치와 임계값 ) 만 적절히 조정하면 여러 논리 회로간의 변환이 가능하다. <br>\r\n",
        "\r\n",
        "## **2.3.2 가중치와 편향 도입**\r\n",
        "이번에는 $$ \\varTheta = - b $$\r\n",
        "즉, <br><br>b =  편향 = 뉴런이 얼마나 쉽게 활성화 (결과가 1) 되는지 를 조정하는 매개변수 <br><br>을 적용하면 \r\n",
        "$$ y = \\begin{cases}\r\n",
        "0 ( b + w₁x₁+ w₂x₂\\leq 0)\\\\ \r\n",
        "1 ( b + w₁x₁+ w₂x₂> 0)\r\n",
        "\\end{cases} $$"
      ]
    },
    {
      "cell_type": "code",
      "metadata": {
        "id": "s_cUassc5w1X"
      },
      "source": [
        "# AND 게이트 \r\n",
        "\r\n",
        "import numpy as np\r\n",
        "\r\n",
        "def ANDb(x1,x2):\r\n",
        "  x = np.array([x1,x2])\r\n",
        "  w = np.array([0.5,0.5])\r\n",
        "  b = -0.7\r\n",
        "\r\n",
        "  tmp = np.sum(w*x) +  b\r\n",
        "\r\n",
        "  if tmp <= 0:\r\n",
        "    return 0\r\n",
        "  elif tmp>0:\r\n",
        "    return 1"
      ],
      "execution_count": 19,
      "outputs": []
    },
    {
      "cell_type": "code",
      "metadata": {
        "colab": {
          "base_uri": "https://localhost:8080/"
        },
        "id": "kicDpnAm8vKs",
        "outputId": "2d7ce306-2e30-41d8-ed42-d9c7318bbbff"
      },
      "source": [
        "ANDb(1,1)"
      ],
      "execution_count": 23,
      "outputs": [
        {
          "output_type": "execute_result",
          "data": {
            "text/plain": [
              "1"
            ]
          },
          "metadata": {
            "tags": []
          },
          "execution_count": 23
        }
      ]
    },
    {
      "cell_type": "code",
      "metadata": {
        "id": "pGeO2R92778Y"
      },
      "source": [
        "# NAND 게이트 \r\n",
        "\r\n",
        "def NANDb(x1,x2):\r\n",
        "  x = np.array([x1,x2])\r\n",
        "  w = np.array([-0.5,-0.5])\r\n",
        "  b = 0.7\r\n",
        "\r\n",
        "  tmp = np.sum(w*x) +  b\r\n",
        "\r\n",
        "  if tmp <= 0:\r\n",
        "    return 0\r\n",
        "  elif tmp>0:\r\n",
        "    return 1"
      ],
      "execution_count": 16,
      "outputs": []
    },
    {
      "cell_type": "code",
      "metadata": {
        "id": "_vVkhBWG8C29"
      },
      "source": [
        "# OR 게이트 \r\n",
        "\r\n",
        "def ORb(x1,x2):\r\n",
        "  x = np.array([x1,x2])\r\n",
        "  w = np.array([0.5,0.5])\r\n",
        "  b = -0.1\r\n",
        "\r\n",
        "  tmp = np.sum(w*x) +  b\r\n",
        "\r\n",
        "  if tmp <= 0:\r\n",
        "    return 0\r\n",
        "  elif tmp>0:\r\n",
        "    return 1"
      ],
      "execution_count": 17,
      "outputs": []
    },
    {
      "cell_type": "markdown",
      "metadata": {
        "id": "FH4jG-lz9eQe"
      },
      "source": [
        "## **2.4 퍼셉트론의 한계**\r\n",
        "\r\n",
        "AND OR NAND 모두 선형 하나로 0, 1 구분이 가능하지만 **배타적 논리합 XOR XAND** 은 불가능하기 때문에 비선형 (곡선) 으로 구분해야 한다. \r\n",
        "\r\n",
        "## **2.5 다층 퍼셉트론이 출동한다면**\r\n",
        "\r\n",
        "퍼셉트론의 층을 쌓아 '다층 퍼셉트론'으로 만든다. <br>\r\n",
        "이 원리로 XOR 구현한다. ( 여기에서 x1,x2 가 0층 / s1, s2 가 1층 / y 가 2층 ) "
      ]
    },
    {
      "cell_type": "code",
      "metadata": {
        "id": "GXfyh1nnQz0U"
      },
      "source": [
        "def XOR(x1,x2):\r\n",
        "  s1 = NAND(x1,x2)\r\n",
        "  s2 = OR(x1,x2)\r\n",
        "  y = AND(s1,s2)\r\n",
        "  return y "
      ],
      "execution_count": 24,
      "outputs": []
    },
    {
      "cell_type": "code",
      "metadata": {
        "colab": {
          "base_uri": "https://localhost:8080/"
        },
        "id": "utmoUi6URQCS",
        "outputId": "d5ac4088-092b-4235-a92e-2a8d1ad940bc"
      },
      "source": [
        "print(XOR(0,0))\r\n",
        "print(XOR(1,0))\r\n",
        "print(XOR(0,1))\r\n",
        "print(XOR(1,1))"
      ],
      "execution_count": 25,
      "outputs": [
        {
          "output_type": "stream",
          "text": [
            "0\n",
            "1\n",
            "1\n",
            "0\n"
          ],
          "name": "stdout"
        }
      ]
    },
    {
      "cell_type": "markdown",
      "metadata": {
        "id": "xEqSDpBMRkrg"
      },
      "source": [
        "이처럼 퍼셉트론은 층을 쌓아서 다양한 것 표현 가능 <br><br>\r\n",
        "\r\n",
        "## **2.6 NAND 에서 컴퓨터까지**\r\n",
        "\r\n",
        "퍼셉트론은 층을 거듭 쌓으면 비선형적인 표현도 가능하고, 컴퓨터가 수행하는 처리도 모두 표현 가능하다. "
      ]
    }
  ]
}